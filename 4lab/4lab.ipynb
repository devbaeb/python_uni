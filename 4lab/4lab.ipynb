{
 "cells": [
  {
   "cell_type": "markdown",
   "id": "8fde6805",
   "metadata": {},
   "source": [
    "# 4 лабораторная"
   ]
  },
  {
   "cell_type": "markdown",
   "id": "2f762811",
   "metadata": {},
   "source": [
    "## 1 задание"
   ]
  },
  {
   "cell_type": "code",
   "execution_count": 1,
   "id": "7a4dbe73",
   "metadata": {},
   "outputs": [
    {
     "data": {
      "text/plain": [
       "3"
      ]
     },
     "execution_count": 1,
     "metadata": {},
     "output_type": "execute_result"
    }
   ],
   "source": [
    "int(3.9999999) # int округляет вниз"
   ]
  },
  {
   "cell_type": "code",
   "execution_count": 2,
   "id": "4dfb7606",
   "metadata": {},
   "outputs": [
    {
     "data": {
      "text/plain": [
       "2"
      ]
     },
     "execution_count": 2,
     "metadata": {},
     "output_type": "execute_result"
    }
   ],
   "source": [
    "int(2.5)"
   ]
  },
  {
   "cell_type": "code",
   "execution_count": 7,
   "id": "0279e0d9",
   "metadata": {},
   "outputs": [
    {
     "ename": "ValueError",
     "evalue": "invalid literal for int() with base 10: '-2.3'",
     "output_type": "error",
     "traceback": [
      "\u001b[0;31m---------------------------------------------------------------------------\u001b[0m",
      "\u001b[0;31mValueError\u001b[0m                                Traceback (most recent call last)",
      "Input \u001b[0;32mIn [7]\u001b[0m, in \u001b[0;36m<cell line: 1>\u001b[0;34m()\u001b[0m\n\u001b[0;32m----> 1\u001b[0m \u001b[38;5;28;43mint\u001b[39;49m\u001b[43m(\u001b[49m\u001b[38;5;124;43m'\u001b[39;49m\u001b[38;5;124;43m-2.3\u001b[39;49m\u001b[38;5;124;43m'\u001b[39;49m\u001b[43m)\u001b[49m\n",
      "\u001b[0;31mValueError\u001b[0m: invalid literal for int() with base 10: '-2.3'"
     ]
    }
   ],
   "source": [
    "int('-2.3')"
   ]
  },
  {
   "cell_type": "code",
   "execution_count": 4,
   "id": "68f8bff9",
   "metadata": {},
   "outputs": [
    {
     "data": {
      "text/plain": [
       "1"
      ]
     },
     "execution_count": 4,
     "metadata": {},
     "output_type": "execute_result"
    }
   ],
   "source": [
    "int(True)"
   ]
  },
  {
   "cell_type": "code",
   "execution_count": 8,
   "id": "643d4f1d",
   "metadata": {},
   "outputs": [
    {
     "data": {
      "text/plain": [
       "999.0"
      ]
     },
     "execution_count": 8,
     "metadata": {},
     "output_type": "execute_result"
    }
   ],
   "source": [
    "float(999)"
   ]
  },
  {
   "cell_type": "code",
   "execution_count": 11,
   "id": "6cfae2e6",
   "metadata": {},
   "outputs": [
    {
     "data": {
      "text/plain": [
       "-0.00123"
      ]
     },
     "execution_count": 11,
     "metadata": {},
     "output_type": "execute_result"
    }
   ],
   "source": [
    "float('-1.23e-3')"
   ]
  },
  {
   "cell_type": "code",
   "execution_count": 12,
   "id": "64bfc067",
   "metadata": {},
   "outputs": [
    {
     "data": {
      "text/plain": [
       "1.0"
      ]
     },
     "execution_count": 12,
     "metadata": {},
     "output_type": "execute_result"
    }
   ],
   "source": [
    "float(True)"
   ]
  },
  {
   "cell_type": "code",
   "execution_count": 26,
   "id": "a7ba0478",
   "metadata": {},
   "outputs": [
    {
     "ename": "ValueError",
     "evalue": "could not convert string to float: 'False'",
     "output_type": "error",
     "traceback": [
      "\u001b[0;31m---------------------------------------------------------------------------\u001b[0m",
      "\u001b[0;31mValueError\u001b[0m                                Traceback (most recent call last)",
      "Input \u001b[0;32mIn [26]\u001b[0m, in \u001b[0;36m<cell line: 1>\u001b[0;34m()\u001b[0m\n\u001b[0;32m----> 1\u001b[0m \u001b[38;5;28;43mfloat\u001b[39;49m\u001b[43m(\u001b[49m\u001b[38;5;124;43m'\u001b[39;49m\u001b[38;5;124;43mFalse\u001b[39;49m\u001b[38;5;124;43m'\u001b[39;49m\u001b[43m)\u001b[49m\n",
      "\u001b[0;31mValueError\u001b[0m: could not convert string to float: 'False'"
     ]
    }
   ],
   "source": [
    "float('False')"
   ]
  },
  {
   "cell_type": "code",
   "execution_count": 14,
   "id": "1de29bc9",
   "metadata": {},
   "outputs": [
    {
     "ename": "TypeError",
     "evalue": "int() argument must be a string, a bytes-like object or a real number, not 'complex'",
     "output_type": "error",
     "traceback": [
      "\u001b[0;31m---------------------------------------------------------------------------\u001b[0m",
      "\u001b[0;31mTypeError\u001b[0m                                 Traceback (most recent call last)",
      "Input \u001b[0;32mIn [14]\u001b[0m, in \u001b[0;36m<cell line: 1>\u001b[0;34m()\u001b[0m\n\u001b[0;32m----> 1\u001b[0m \u001b[38;5;28;43mint\u001b[39;49m\u001b[43m(\u001b[49m\u001b[43m(\u001b[49m\u001b[38;5;241;43m2\u001b[39;49m\u001b[43m \u001b[49m\u001b[38;5;241;43m+\u001b[39;49m\u001b[43m \u001b[49m\u001b[38;5;241;43m3\u001b[39;49m\u001b[43mj\u001b[49m\u001b[43m)\u001b[49m\u001b[43m)\u001b[49m\n",
      "\u001b[0;31mTypeError\u001b[0m: int() argument must be a string, a bytes-like object or a real number, not 'complex'"
     ]
    }
   ],
   "source": [
    "int((2 + 3j))"
   ]
  },
  {
   "cell_type": "code",
   "execution_count": 15,
   "id": "390f0fb4",
   "metadata": {},
   "outputs": [
    {
     "ename": "TypeError",
     "evalue": "float() argument must be a string or a real number, not 'complex'",
     "output_type": "error",
     "traceback": [
      "\u001b[0;31m---------------------------------------------------------------------------\u001b[0m",
      "\u001b[0;31mTypeError\u001b[0m                                 Traceback (most recent call last)",
      "Input \u001b[0;32mIn [15]\u001b[0m, in \u001b[0;36m<cell line: 1>\u001b[0;34m()\u001b[0m\n\u001b[0;32m----> 1\u001b[0m \u001b[38;5;28;43mfloat\u001b[39;49m\u001b[43m(\u001b[49m\u001b[43m(\u001b[49m\u001b[38;5;241;43m2\u001b[39;49m\u001b[43m \u001b[49m\u001b[38;5;241;43m+\u001b[39;49m\u001b[43m \u001b[49m\u001b[38;5;241;43m3\u001b[39;49m\u001b[43mj\u001b[49m\u001b[43m)\u001b[49m\u001b[43m)\u001b[49m\n",
      "\u001b[0;31mTypeError\u001b[0m: float() argument must be a string or a real number, not 'complex'"
     ]
    }
   ],
   "source": [
    "float((2 + 3j))"
   ]
  },
  {
   "cell_type": "code",
   "execution_count": 29,
   "id": "7ad8cb04",
   "metadata": {},
   "outputs": [
    {
     "name": "stdout",
     "output_type": "stream",
     "text": [
      "Первое слагаемое: 3\n",
      "Второе слагаемое: 5\n"
     ]
    },
    {
     "data": {
      "text/plain": [
       "8"
      ]
     },
     "execution_count": 29,
     "metadata": {},
     "output_type": "execute_result"
    }
   ],
   "source": [
    "int(input('Первое слагаемое: ')) + int(input('Второе слагаемое: '))"
   ]
  },
  {
   "cell_type": "code",
   "execution_count": 20,
   "id": "bf0d81f1",
   "metadata": {},
   "outputs": [
    {
     "name": "stdout",
     "output_type": "stream",
     "text": [
      "\n"
     ]
    },
    {
     "data": {
      "text/plain": [
       "'Нет'"
      ]
     },
     "execution_count": 20,
     "metadata": {},
     "output_type": "execute_result"
    }
   ],
   "source": [
    "input() and 'Да' or 'Нет' # чтобы получить строку 'Нет' нужно оставить строку пустой"
   ]
  },
  {
   "cell_type": "markdown",
   "id": "cd99f066",
   "metadata": {},
   "source": [
    "## 2 задание"
   ]
  },
  {
   "cell_type": "code",
   "execution_count": 21,
   "id": "bd9503e0",
   "metadata": {},
   "outputs": [],
   "source": [
    "x = 1000"
   ]
  },
  {
   "cell_type": "code",
   "execution_count": 22,
   "id": "3a1704b4",
   "metadata": {},
   "outputs": [],
   "source": [
    "y = x"
   ]
  },
  {
   "cell_type": "code",
   "execution_count": 23,
   "id": "6a87f5d7",
   "metadata": {},
   "outputs": [
    {
     "data": {
      "text/plain": [
       "140050296308688"
      ]
     },
     "execution_count": 23,
     "metadata": {},
     "output_type": "execute_result"
    }
   ],
   "source": [
    "id(x)"
   ]
  },
  {
   "cell_type": "code",
   "execution_count": 24,
   "id": "4d97c68b",
   "metadata": {},
   "outputs": [
    {
     "data": {
      "text/plain": [
       "140050296308688"
      ]
     },
     "execution_count": 24,
     "metadata": {},
     "output_type": "execute_result"
    }
   ],
   "source": [
    "id(y)"
   ]
  },
  {
   "cell_type": "code",
   "execution_count": 25,
   "id": "e4a0bc21",
   "metadata": {},
   "outputs": [],
   "source": [
    "x = 1001"
   ]
  },
  {
   "cell_type": "code",
   "execution_count": 45,
   "id": "08e9fb0b",
   "metadata": {},
   "outputs": [
    {
     "name": "stdout",
     "output_type": "stream",
     "text": [
      "x = 1001 id = 140050296308624\n",
      "y = 1000 id = 140050296308688\n"
     ]
    }
   ],
   "source": [
    "print('x = ' + str(x) + ' id = ' + str(id(x)) + '\\ny = ' + str(y) + ' id = ' + str(id(y)))"
   ]
  },
  {
   "cell_type": "code",
   "execution_count": 46,
   "id": "2b604d64",
   "metadata": {},
   "outputs": [],
   "source": [
    "x = 2"
   ]
  },
  {
   "cell_type": "code",
   "execution_count": 47,
   "id": "cccfc763",
   "metadata": {},
   "outputs": [],
   "source": [
    "x *= 2 + 3"
   ]
  },
  {
   "cell_type": "code",
   "execution_count": 48,
   "id": "dd4bd7b1",
   "metadata": {},
   "outputs": [
    {
     "data": {
      "text/plain": [
       "10"
      ]
     },
     "execution_count": 48,
     "metadata": {},
     "output_type": "execute_result"
    }
   ],
   "source": [
    "x # сначала вычисляется сумма справа (2+3=5), затем умножается на значение переменной x=2 и присваевается ей"
   ]
  },
  {
   "cell_type": "code",
   "execution_count": 49,
   "id": "b6c0b810",
   "metadata": {},
   "outputs": [
    {
     "data": {
      "text/plain": [
       "140050650399248"
      ]
     },
     "execution_count": 49,
     "metadata": {},
     "output_type": "execute_result"
    }
   ],
   "source": [
    "id(x)"
   ]
  },
  {
   "cell_type": "code",
   "execution_count": 50,
   "id": "c8135dd5",
   "metadata": {},
   "outputs": [],
   "source": [
    "x = 81"
   ]
  },
  {
   "cell_type": "code",
   "execution_count": 51,
   "id": "eae44e3d",
   "metadata": {},
   "outputs": [
    {
     "data": {
      "text/plain": [
       "140050650401520"
      ]
     },
     "execution_count": 51,
     "metadata": {},
     "output_type": "execute_result"
    }
   ],
   "source": [
    "id(x)"
   ]
  },
  {
   "cell_type": "code",
   "execution_count": 52,
   "id": "86eb1cbb",
   "metadata": {},
   "outputs": [],
   "source": [
    "x *= 3"
   ]
  },
  {
   "cell_type": "code",
   "execution_count": 53,
   "id": "e459044a",
   "metadata": {},
   "outputs": [
    {
     "data": {
      "text/plain": [
       "140050650406704"
      ]
     },
     "execution_count": 53,
     "metadata": {},
     "output_type": "execute_result"
    }
   ],
   "source": [
    "id(x)"
   ]
  },
  {
   "cell_type": "code",
   "execution_count": 54,
   "id": "e3c49133",
   "metadata": {},
   "outputs": [
    {
     "data": {
      "text/plain": [
       "140050650401520"
      ]
     },
     "execution_count": 54,
     "metadata": {},
     "output_type": "execute_result"
    }
   ],
   "source": [
    "id(81)"
   ]
  },
  {
   "cell_type": "code",
   "execution_count": 55,
   "id": "30c32e86",
   "metadata": {},
   "outputs": [
    {
     "data": {
      "text/plain": [
       "140050650406704"
      ]
     },
     "execution_count": 55,
     "metadata": {},
     "output_type": "execute_result"
    }
   ],
   "source": [
    "id(243)"
   ]
  },
  {
   "cell_type": "code",
   "execution_count": 56,
   "id": "82051e10",
   "metadata": {},
   "outputs": [],
   "source": [
    "x = 512"
   ]
  },
  {
   "cell_type": "code",
   "execution_count": 57,
   "id": "418ceeb0",
   "metadata": {},
   "outputs": [
    {
     "data": {
      "text/plain": [
       "140050296312784"
      ]
     },
     "execution_count": 57,
     "metadata": {},
     "output_type": "execute_result"
    }
   ],
   "source": [
    "id(x)"
   ]
  },
  {
   "cell_type": "code",
   "execution_count": 58,
   "id": "b0d4a8c3",
   "metadata": {},
   "outputs": [],
   "source": [
    "x *= 3"
   ]
  },
  {
   "cell_type": "code",
   "execution_count": 64,
   "id": "f031b40a",
   "metadata": {},
   "outputs": [
    {
     "data": {
      "text/plain": [
       "140050296312816"
      ]
     },
     "execution_count": 64,
     "metadata": {},
     "output_type": "execute_result"
    }
   ],
   "source": [
    "id(x)"
   ]
  },
  {
   "cell_type": "code",
   "execution_count": 60,
   "id": "8ecace2b",
   "metadata": {},
   "outputs": [
    {
     "data": {
      "text/plain": [
       "140050296313008"
      ]
     },
     "execution_count": 60,
     "metadata": {},
     "output_type": "execute_result"
    }
   ],
   "source": [
    "id(512)"
   ]
  },
  {
   "cell_type": "code",
   "execution_count": 61,
   "id": "f9fae33e",
   "metadata": {},
   "outputs": [
    {
     "data": {
      "text/plain": [
       "140050296312496"
      ]
     },
     "execution_count": 61,
     "metadata": {},
     "output_type": "execute_result"
    }
   ],
   "source": [
    "id(1536) # Чтобы повысить быстродействие программ, при загрузке Питона автоматически создаются объекты данных для небольших чисел (зависит от системы, например, от -5 до 256)"
   ]
  },
  {
   "cell_type": "code",
   "execution_count": 91,
   "id": "de9c1ac6",
   "metadata": {},
   "outputs": [],
   "source": [
    "next_day = 'После 28 февраля будет'"
   ]
  },
  {
   "cell_type": "code",
   "execution_count": 92,
   "id": "8d618a73",
   "metadata": {},
   "outputs": [],
   "source": [
    "year = 2016"
   ]
  },
  {
   "cell_type": "code",
   "execution_count": 93,
   "id": "539b781a",
   "metadata": {},
   "outputs": [],
   "source": [
    "next_day += ((year % 4 == 0 and year % 100 != 0) or year % 400 == 0) and ' 29 февраля' or ' 1 марта'"
   ]
  },
  {
   "cell_type": "code",
   "execution_count": 94,
   "id": "05f6f4c4",
   "metadata": {},
   "outputs": [
    {
     "data": {
      "text/plain": [
       "'После 28 февраля будет 29 февраля'"
      ]
     },
     "execution_count": 94,
     "metadata": {},
     "output_type": "execute_result"
    }
   ],
   "source": [
    "next_day"
   ]
  },
  {
   "cell_type": "code",
   "execution_count": null,
   "id": "8d2a57f5",
   "metadata": {},
   "outputs": [],
   "source": []
  }
 ],
 "metadata": {
  "kernelspec": {
   "display_name": "Python 3 (ipykernel)",
   "language": "python",
   "name": "python3"
  },
  "language_info": {
   "codemirror_mode": {
    "name": "ipython",
    "version": 3
   },
   "file_extension": ".py",
   "mimetype": "text/x-python",
   "name": "python",
   "nbconvert_exporter": "python",
   "pygments_lexer": "ipython3",
   "version": "3.10.2"
  }
 },
 "nbformat": 4,
 "nbformat_minor": 5
}
